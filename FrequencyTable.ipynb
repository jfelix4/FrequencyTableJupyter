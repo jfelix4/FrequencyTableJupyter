{
 "cells": [
  {
   "cell_type": "code",
   "execution_count": null,
   "id": "2fc43806",
   "metadata": {},
   "outputs": [],
   "source": [
    "#BASIC STATISTICS : FREQUENCY TABLE\n",
    "\n",
    "# extracted from report genered by 1st Agency for Home Health Care when assessing expansion to other counties.\n",
    "# imported spreadsheet data represents the number of home health care agencies in 60 different counties. \n",
    "# a fequency table is represented to organize the data in a readable manner."
   ]
  },
  {
   "cell_type": "code",
   "execution_count": 1,
   "id": "de6b86c4",
   "metadata": {},
   "outputs": [],
   "source": [
    "import pandas as pd"
   ]
  },
  {
   "cell_type": "code",
   "execution_count": 2,
   "id": "fb36f277",
   "metadata": {},
   "outputs": [],
   "source": [
    "import numpy as np"
   ]
  },
  {
   "cell_type": "code",
   "execution_count": 24,
   "id": "9595dc05",
   "metadata": {},
   "outputs": [],
   "source": [
    "# import excel spreadsheett (raw data)\n",
    "rawDataHHC = pd.read_excel('rowDataHHC.xlsx')"
   ]
  },
  {
   "cell_type": "code",
   "execution_count": 34,
   "id": "91b62038",
   "metadata": {},
   "outputs": [
    {
     "data": {
      "text/html": [
       "<div>\n",
       "<style scoped>\n",
       "    .dataframe tbody tr th:only-of-type {\n",
       "        vertical-align: middle;\n",
       "    }\n",
       "\n",
       "    .dataframe tbody tr th {\n",
       "        vertical-align: top;\n",
       "    }\n",
       "\n",
       "    .dataframe thead th {\n",
       "        text-align: right;\n",
       "    }\n",
       "</style>\n",
       "<table border=\"1\" class=\"dataframe\">\n",
       "  <thead>\n",
       "    <tr style=\"text-align: right;\">\n",
       "      <th></th>\n",
       "      <th>Agency</th>\n",
       "      <th>Number of Agency</th>\n",
       "    </tr>\n",
       "  </thead>\n",
       "  <tbody>\n",
       "    <tr>\n",
       "      <th>0</th>\n",
       "      <td>Alachua</td>\n",
       "      <td>31</td>\n",
       "    </tr>\n",
       "    <tr>\n",
       "      <th>1</th>\n",
       "      <td>Baker</td>\n",
       "      <td>1</td>\n",
       "    </tr>\n",
       "    <tr>\n",
       "      <th>2</th>\n",
       "      <td>Bay</td>\n",
       "      <td>16</td>\n",
       "    </tr>\n",
       "    <tr>\n",
       "      <th>3</th>\n",
       "      <td>Bradford</td>\n",
       "      <td>0</td>\n",
       "    </tr>\n",
       "    <tr>\n",
       "      <th>4</th>\n",
       "      <td>Brevard</td>\n",
       "      <td>45</td>\n",
       "    </tr>\n",
       "  </tbody>\n",
       "</table>\n",
       "</div>"
      ],
      "text/plain": [
       "     Agency  Number of Agency\n",
       "0   Alachua                31\n",
       "1     Baker                 1\n",
       "2       Bay                16\n",
       "3  Bradford                 0\n",
       "4   Brevard                45"
      ]
     },
     "execution_count": 34,
     "metadata": {},
     "output_type": "execute_result"
    }
   ],
   "source": [
    "rawDataHHC.head()"
   ]
  },
  {
   "cell_type": "code",
   "execution_count": 27,
   "id": "432ef85f",
   "metadata": {},
   "outputs": [],
   "source": [
    "# basic frequency table for data\n",
    "frequencyTable = pd.crosstab(index=rawDataHHC['Number of Agency'], columns='count')"
   ]
  },
  {
   "cell_type": "code",
   "execution_count": 33,
   "id": "f73aef68",
   "metadata": {},
   "outputs": [
    {
     "data": {
      "text/html": [
       "<div>\n",
       "<style scoped>\n",
       "    .dataframe tbody tr th:only-of-type {\n",
       "        vertical-align: middle;\n",
       "    }\n",
       "\n",
       "    .dataframe tbody tr th {\n",
       "        vertical-align: top;\n",
       "    }\n",
       "\n",
       "    .dataframe thead th {\n",
       "        text-align: right;\n",
       "    }\n",
       "</style>\n",
       "<table border=\"1\" class=\"dataframe\">\n",
       "  <thead>\n",
       "    <tr style=\"text-align: right;\">\n",
       "      <th>col_0</th>\n",
       "      <th>count</th>\n",
       "    </tr>\n",
       "    <tr>\n",
       "      <th>Number of Agency</th>\n",
       "      <th></th>\n",
       "    </tr>\n",
       "  </thead>\n",
       "  <tbody>\n",
       "    <tr>\n",
       "      <th>0</th>\n",
       "      <td>6</td>\n",
       "    </tr>\n",
       "    <tr>\n",
       "      <th>1</th>\n",
       "      <td>12</td>\n",
       "    </tr>\n",
       "    <tr>\n",
       "      <th>2</th>\n",
       "      <td>2</td>\n",
       "    </tr>\n",
       "    <tr>\n",
       "      <th>4</th>\n",
       "      <td>2</td>\n",
       "    </tr>\n",
       "    <tr>\n",
       "      <th>5</th>\n",
       "      <td>2</td>\n",
       "    </tr>\n",
       "  </tbody>\n",
       "</table>\n",
       "</div>"
      ],
      "text/plain": [
       "col_0             count\n",
       "Number of Agency       \n",
       "0                     6\n",
       "1                    12\n",
       "2                     2\n",
       "4                     2\n",
       "5                     2"
      ]
     },
     "execution_count": 33,
     "metadata": {},
     "output_type": "execute_result"
    }
   ],
   "source": [
    "frequencyTable.head()"
   ]
  },
  {
   "cell_type": "code",
   "execution_count": 41,
   "id": "c5e2f033",
   "metadata": {},
   "outputs": [],
   "source": [
    "# frequency for class limit 0-21\n",
    "GroupFreq021 = frequencyTable.iloc[0:13].sum()"
   ]
  },
  {
   "cell_type": "code",
   "execution_count": 42,
   "id": "5308e689",
   "metadata": {},
   "outputs": [
    {
     "data": {
      "text/plain": [
       "col_0\n",
       "count    37\n",
       "dtype: int64"
      ]
     },
     "execution_count": 42,
     "metadata": {},
     "output_type": "execute_result"
    }
   ],
   "source": [
    "GroupFreq021"
   ]
  },
  {
   "cell_type": "code",
   "execution_count": 37,
   "id": "e97ae87c",
   "metadata": {},
   "outputs": [],
   "source": [
    "# frequency for class limit 22-43\n",
    "GroupFreq2243 = frequencyTable.iloc[13:21].sum()"
   ]
  },
  {
   "cell_type": "code",
   "execution_count": 38,
   "id": "58a18c0d",
   "metadata": {},
   "outputs": [
    {
     "data": {
      "text/plain": [
       "col_0\n",
       "count    11\n",
       "dtype: int64"
      ]
     },
     "execution_count": 38,
     "metadata": {},
     "output_type": "execute_result"
    }
   ],
   "source": [
    "GroupFreq2243"
   ]
  },
  {
   "cell_type": "code",
   "execution_count": 39,
   "id": "324fae3c",
   "metadata": {},
   "outputs": [],
   "source": [
    "# frequency for class limit 44-65\n",
    "GroupFreq4465 = frequencyTable.iloc[21:22].sum()"
   ]
  },
  {
   "cell_type": "code",
   "execution_count": 40,
   "id": "e4dabb07",
   "metadata": {},
   "outputs": [
    {
     "data": {
      "text/plain": [
       "col_0\n",
       "count    2\n",
       "dtype: int64"
      ]
     },
     "execution_count": 40,
     "metadata": {},
     "output_type": "execute_result"
    }
   ],
   "source": [
    "GroupFreq4465"
   ]
  },
  {
   "cell_type": "code",
   "execution_count": 31,
   "id": "1116850a",
   "metadata": {},
   "outputs": [],
   "source": [
    "# final readable frequency table\n",
    "Freqtabl = pd.DataFrame({'# Agency': ['0-21', '22-43', '22-65','66-87', '88-109', '100-131','176-197','264-285','374-395'],'Tally':['////////// ////////// ////////// ///////', '////////// /','//', '/','///','/','/','//','/' ], \n",
    "                        'Frequency': [37, 11, 2, 1, 3, 1,  1, 2, 1]})"
   ]
  },
  {
   "cell_type": "code",
   "execution_count": 32,
   "id": "37821483",
   "metadata": {},
   "outputs": [
    {
     "data": {
      "text/html": [
       "<div>\n",
       "<style scoped>\n",
       "    .dataframe tbody tr th:only-of-type {\n",
       "        vertical-align: middle;\n",
       "    }\n",
       "\n",
       "    .dataframe tbody tr th {\n",
       "        vertical-align: top;\n",
       "    }\n",
       "\n",
       "    .dataframe thead th {\n",
       "        text-align: right;\n",
       "    }\n",
       "</style>\n",
       "<table border=\"1\" class=\"dataframe\">\n",
       "  <thead>\n",
       "    <tr style=\"text-align: right;\">\n",
       "      <th></th>\n",
       "      <th># Agency</th>\n",
       "      <th>Tally</th>\n",
       "      <th>Frequency</th>\n",
       "    </tr>\n",
       "  </thead>\n",
       "  <tbody>\n",
       "    <tr>\n",
       "      <th>0</th>\n",
       "      <td>0-21</td>\n",
       "      <td>////////// ////////// ////////// ///////</td>\n",
       "      <td>37</td>\n",
       "    </tr>\n",
       "    <tr>\n",
       "      <th>1</th>\n",
       "      <td>22-43</td>\n",
       "      <td>////////// /</td>\n",
       "      <td>11</td>\n",
       "    </tr>\n",
       "    <tr>\n",
       "      <th>2</th>\n",
       "      <td>22-65</td>\n",
       "      <td>//</td>\n",
       "      <td>2</td>\n",
       "    </tr>\n",
       "    <tr>\n",
       "      <th>3</th>\n",
       "      <td>66-87</td>\n",
       "      <td>/</td>\n",
       "      <td>1</td>\n",
       "    </tr>\n",
       "    <tr>\n",
       "      <th>4</th>\n",
       "      <td>88-109</td>\n",
       "      <td>///</td>\n",
       "      <td>3</td>\n",
       "    </tr>\n",
       "    <tr>\n",
       "      <th>5</th>\n",
       "      <td>100-131</td>\n",
       "      <td>/</td>\n",
       "      <td>1</td>\n",
       "    </tr>\n",
       "    <tr>\n",
       "      <th>6</th>\n",
       "      <td>176-197</td>\n",
       "      <td>/</td>\n",
       "      <td>1</td>\n",
       "    </tr>\n",
       "    <tr>\n",
       "      <th>7</th>\n",
       "      <td>264-285</td>\n",
       "      <td>//</td>\n",
       "      <td>2</td>\n",
       "    </tr>\n",
       "    <tr>\n",
       "      <th>8</th>\n",
       "      <td>374-395</td>\n",
       "      <td>/</td>\n",
       "      <td>1</td>\n",
       "    </tr>\n",
       "  </tbody>\n",
       "</table>\n",
       "</div>"
      ],
      "text/plain": [
       "  # Agency                                     Tally  Frequency\n",
       "0     0-21  ////////// ////////// ////////// ///////         37\n",
       "1    22-43                              ////////// /         11\n",
       "2    22-65                                        //          2\n",
       "3    66-87                                         /          1\n",
       "4   88-109                                       ///          3\n",
       "5  100-131                                         /          1\n",
       "6  176-197                                         /          1\n",
       "7  264-285                                        //          2\n",
       "8  374-395                                         /          1"
      ]
     },
     "execution_count": 32,
     "metadata": {},
     "output_type": "execute_result"
    }
   ],
   "source": [
    "Freqtabl"
   ]
  },
  {
   "cell_type": "code",
   "execution_count": null,
   "id": "b19f830c",
   "metadata": {},
   "outputs": [],
   "source": [
    "# the frequenct distribution shows most counties have less than 22 home health agencies. \n",
    "# assuming other factors being hold, these areas could have more opportunity for expansion.\n",
    "# Avoid saturated areas."
   ]
  }
 ],
 "metadata": {
  "kernelspec": {
   "display_name": "Python 3 (ipykernel)",
   "language": "python",
   "name": "python3"
  },
  "language_info": {
   "codemirror_mode": {
    "name": "ipython",
    "version": 3
   },
   "file_extension": ".py",
   "mimetype": "text/x-python",
   "name": "python",
   "nbconvert_exporter": "python",
   "pygments_lexer": "ipython3",
   "version": "3.9.12"
  }
 },
 "nbformat": 4,
 "nbformat_minor": 5
}
